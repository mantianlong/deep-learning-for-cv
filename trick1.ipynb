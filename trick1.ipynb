{
 "cells": [
  {
   "cell_type": "code",
   "execution_count": null,
   "metadata": {
    "collapsed": true
   },
   "outputs": [],
   "source": [
    "# dbnet 填充区域\n",
    "cv2.fillPoly(mask, box.reshape(1, -1, 2).astype(np.int32), 1)\n",
    "\n",
    "# 找轮廓\n",
    "contours, _ = cv2.findContours((bitmap * 255).astype(np.uint8), cv2.RETR_LIST, cv2.CHAIN_APPROX_SIMPLE)\n",
    "# 过滤轮廓\n",
    "epsilon = 0.005 * cv2.arcLength(contour, True)\n",
    "approx = cv2.approxPolyDP(contour, epsilon, True)\n",
    "\n",
    "# 向上，向下取整\n",
    "np.floor(), np.ceil()\n",
    "# 截取\n",
    "np.clip(x.astype(np.int), 0, w)"
   ]
  },
  {
   "cell_type": "code",
   "execution_count": null,
   "metadata": {
    "collapsed": true
   },
   "outputs": [],
   "source": [
    "#加载参数"
   ]
  },
  {
   "cell_type": "code",
   "execution_count": 1,
   "metadata": {
    "collapsed": true
   },
   "outputs": [],
   "source": [
    "#finetune时某层参数不加载"
   ]
  },
  {
   "cell_type": "code",
   "execution_count": 2,
   "metadata": {
    "collapsed": true
   },
   "outputs": [],
   "source": [
    "#finetune时某层数据不变"
   ]
  },
  {
   "cell_type": "code",
   "execution_count": null,
   "metadata": {
    "collapsed": true
   },
   "outputs": [],
   "source": [
    "#toGpu\n",
    "device = \n",
    "bitmap.to(device)\n",
    "\n",
    "#toCpu\n",
    "bitmap = _bitmap.cpu().numpy()\n",
    "\n",
    "#toCpu 去掉梯度\n",
    "pred = pred.cpu().detach().numpy()"
   ]
  },
  {
   "cell_type": "code",
   "execution_count": null,
   "metadata": {
    "collapsed": true
   },
   "outputs": [],
   "source": [
    "#mobilenet\n",
    "#shufflenet\n",
    "#squeezenet\n"
   ]
  }
 ],
 "metadata": {
  "kernelspec": {
   "display_name": "Python 3",
   "language": "python",
   "name": "python3"
  },
  "language_info": {
   "codemirror_mode": {
    "name": "ipython",
    "version": 3
   },
   "file_extension": ".py",
   "mimetype": "text/x-python",
   "name": "python",
   "nbconvert_exporter": "python",
   "pygments_lexer": "ipython3",
   "version": "3.6.3"
  }
 },
 "nbformat": 4,
 "nbformat_minor": 2
}
