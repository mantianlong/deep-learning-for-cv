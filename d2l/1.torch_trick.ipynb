{
 "cells": [
  {
   "cell_type": "markdown",
   "metadata": {},
   "source": [
    "记录各种Pytorch各种操作"
   ]
  },
  {
   "cell_type": "markdown",
   "metadata": {},
   "source": [
    "1.Pytorch"
   ]
  },
  {
   "cell_type": "code",
   "execution_count": 2,
   "metadata": {
    "collapsed": true
   },
   "outputs": [],
   "source": [
    "# 冻结某层参数\n",
    "\n",
    "# 模型参数转化为np.int8"
   ]
  },
  {
   "cell_type": "code",
   "execution_count": null,
   "metadata": {
    "collapsed": true
   },
   "outputs": [],
   "source": [
    "#toGpu\n",
    "device = torch.device(\"cuda:0\" if torch.cuda.is_available() else \"cpu\")\n",
    "bitmap.to(device)\n",
    "\n",
    "#toCpu\n",
    "bitmap = _bitmap.cpu().numpy()\n",
    "\n",
    "#toCpu 去掉梯度\n",
    "pred = pred.cpu().detach().numpy()"
   ]
  },
  {
   "cell_type": "code",
   "execution_count": null,
   "metadata": {
    "collapsed": true
   },
   "outputs": [],
   "source": [
    "## 保存模型与读取\n",
    "# 保存整个网络\n",
    "torch.save(net, PATH)\n",
    "# 保存网络中的参数，速度快，占空间少\n",
    "torch.save(net.state_dict(), PATH)\n",
    "# 针对上面的保存方法，加载方法分别如下：\n",
    "model_dict = torch.load(PATH)\n",
    "model_dict = model.load_state_dict(torch.load(PATH))\n",
    "\n",
    "# 试验中需保存更多参数，比如优化器的参数等\n",
    "torch.save({'epoch': epochID + 1, 'state_dict': model.state_dict(), 'best_loss': lossMIN,\n",
    "                            'optimizer': optimizer.state_dict(),'alpha': loss.alpha, 'gamma': loss.gamma},\n",
    "                           checkpoint_path + '/m-' + launchTimestamp + '-' + str(\"%.4f\" % lossMIN) + '.pth.tar')\n",
    "# 对应的加载方式\n",
    "def load_checkpoint(model, checkpoint_PATH, optimizer):\n",
    "    if checkpoint != None:\n",
    "        model_CKPT = torch.load(checkpoint_PATH)\n",
    "        model.load_state_dict(model_CKPT['state_dict'])\n",
    "        print('loading checkpoint!')\n",
    "        optimizer.load_state_dict(model_CKPT['optimizer'])\n",
    "    return model, optimizer\n",
    "# 可能修改了一部分网络，比如加了一些，删除一些，等等，那么需要过滤这些参数，加载方式：\n",
    "def load_checkpoint(model, checkpoint, optimizer, loadOptimizer):\n",
    "    if checkpoint != 'No':\n",
    "        print(\"loading checkpoint...\")\n",
    "        model_dict = model.state_dict()\n",
    "        modelCheckpoint = torch.load(checkpoint)\n",
    "        pretrained_dict = modelCheckpoint['state_dict']\n",
    "        # 过滤操作\n",
    "        new_dict = {k: v for k, v in pretrained_dict.items() if k in model_dict.keys()} # 有些层不需要加载参数比如重新训练bilstm \n",
    "        model_dict.update(new_dict)\n",
    "        # 打印出来，更新了多少的参数\n",
    "        print('Total : {}, update: {}'.format(len(pretrained_dict), len(new_dict)))\n",
    "        model.load_state_dict(model_dict)\n",
    "        print(\"loaded finished!\")\n",
    "        # 如果不需要更新优化器那么设置为false\n",
    "        if loadOptimizer == True:\n",
    "            optimizer.load_state_dict(modelCheckpoint['optimizer'])\n",
    "            print('loaded! optimizer')\n",
    "        else:\n",
    "            print('not loaded optimizer')\n",
    "    else:\n",
    "        print('No checkpoint is included')\n",
    "    return model, optimizer"
   ]
  },
  {
   "cell_type": "code",
   "execution_count": null,
   "metadata": {
    "collapsed": true
   },
   "outputs": [],
   "source": [
    "# 冻结部分参数，训练另一部分参数\n",
    "# 添加下面一句话到模型中\n",
    "for p in self.parameters():\n",
    "    p.requires_grad = False\n",
    "# 比如加载了resnet预训练模型之后，在resnet的基础上连接了新的模块，resnet模块那部分可以暂时冻结不更新，只更新其他部分的参数，那么可以在下面加上那句话\n",
    "class RESNET_MF(nn.Module):\n",
    "    def __init__(self, model, pretrained):\n",
    "        super(RESNET_MF, self).__init__()\n",
    "        self.resnet = model(pretrained)\n",
    "        for p in self.parameters():\n",
    "            p.requires_grad = False\n",
    "            self.f = SpectralNorm(nn.Conv2d(2048, 512, 1))\n",
    "            self.g = SpectralNorm(nn.Conv2d(2048, 512, 1))\n",
    "            self.h = SpectralNorm(nn.Conv2d(2048, 2048, 1))\n",
    "# 同时在优化器中添加： filter(lambda p: p.requires_grad, model.parameters())\n",
    "optimizer = optim.Adam(filter(lambda p: p.requires_grad, model.parameters()), eps=1e-08, weight_decay=1e-5)\n",
    "\n",
    "# 参数保存在有序的字典中，那么可以通过查找参数的名字对应的id值，进行冻结\n",
    "model_dict = torch.load('net.pth.tar').state_dict()\n",
    "dict_name = list(model_dict)\n",
    "for i, p in enumerate(dict_name):\n",
    "    print(i, p)\n",
    "# 0 gamma\n",
    "# 1 resnet.conv1.weight\n",
    "# 2 resnet.bn1.weight\n",
    "# 同样在模型中添加这样的代码\n",
    "for i, p in enumerate(net.parameters()):\n",
    "    if i < 165:\n",
    "        p.requires_grad = False\n",
    "# 同时在优化器中添加\n",
    "optimizer = optim.Adam(filter(lambda p: p.requires_grad, model.parameters()), eps=1e-08)"
   ]
  },
  {
   "cell_type": "code",
   "execution_count": 3,
   "metadata": {
    "collapsed": true
   },
   "outputs": [],
   "source": []
  },
  {
   "cell_type": "code",
   "execution_count": null,
   "metadata": {
    "collapsed": true
   },
   "outputs": [],
   "source": []
  },
  {
   "cell_type": "code",
   "execution_count": null,
   "metadata": {
    "collapsed": true
   },
   "outputs": [],
   "source": []
  },
  {
   "cell_type": "markdown",
   "metadata": {},
   "source": [
    "2. 整理dbnet代码，地址 https://github.com/WenmuZhou/DBNet.pytorch/tree/master/"
   ]
  },
  {
   "cell_type": "code",
   "execution_count": 1,
   "metadata": {},
   "outputs": [
    {
     "ename": "NameError",
     "evalue": "name 'cv2' is not defined",
     "output_type": "error",
     "traceback": [
      "\u001b[0;31m---------------------------------------------------------------------------\u001b[0m",
      "\u001b[0;31mNameError\u001b[0m                                 Traceback (most recent call last)",
      "\u001b[0;32m<ipython-input-1-29acbdbb6c15>\u001b[0m in \u001b[0;36m<module>\u001b[0;34m()\u001b[0m\n\u001b[1;32m      1\u001b[0m \u001b[0;31m# dbnet 填充区域\u001b[0m\u001b[0;34m\u001b[0m\u001b[0;34m\u001b[0m\u001b[0m\n\u001b[0;32m----> 2\u001b[0;31m \u001b[0mcv2\u001b[0m\u001b[0;34m.\u001b[0m\u001b[0mfillPoly\u001b[0m\u001b[0;34m(\u001b[0m\u001b[0mmask\u001b[0m\u001b[0;34m,\u001b[0m \u001b[0mbox\u001b[0m\u001b[0;34m.\u001b[0m\u001b[0mreshape\u001b[0m\u001b[0;34m(\u001b[0m\u001b[0;36m1\u001b[0m\u001b[0;34m,\u001b[0m \u001b[0;34m-\u001b[0m\u001b[0;36m1\u001b[0m\u001b[0;34m,\u001b[0m \u001b[0;36m2\u001b[0m\u001b[0;34m)\u001b[0m\u001b[0;34m.\u001b[0m\u001b[0mastype\u001b[0m\u001b[0;34m(\u001b[0m\u001b[0mnp\u001b[0m\u001b[0;34m.\u001b[0m\u001b[0mint32\u001b[0m\u001b[0;34m)\u001b[0m\u001b[0;34m,\u001b[0m \u001b[0;36m1\u001b[0m\u001b[0;34m)\u001b[0m\u001b[0;34m\u001b[0m\u001b[0m\n\u001b[0m\u001b[1;32m      3\u001b[0m \u001b[0;34m\u001b[0m\u001b[0m\n\u001b[1;32m      4\u001b[0m \u001b[0;31m# 找轮廓\u001b[0m\u001b[0;34m\u001b[0m\u001b[0;34m\u001b[0m\u001b[0m\n\u001b[1;32m      5\u001b[0m \u001b[0mcontours\u001b[0m\u001b[0;34m,\u001b[0m \u001b[0m_\u001b[0m \u001b[0;34m=\u001b[0m \u001b[0mcv2\u001b[0m\u001b[0;34m.\u001b[0m\u001b[0mfindContours\u001b[0m\u001b[0;34m(\u001b[0m\u001b[0;34m(\u001b[0m\u001b[0mbitmap\u001b[0m \u001b[0;34m*\u001b[0m \u001b[0;36m255\u001b[0m\u001b[0;34m)\u001b[0m\u001b[0;34m.\u001b[0m\u001b[0mastype\u001b[0m\u001b[0;34m(\u001b[0m\u001b[0mnp\u001b[0m\u001b[0;34m.\u001b[0m\u001b[0muint8\u001b[0m\u001b[0;34m)\u001b[0m\u001b[0;34m,\u001b[0m \u001b[0mcv2\u001b[0m\u001b[0;34m.\u001b[0m\u001b[0mRETR_LIST\u001b[0m\u001b[0;34m,\u001b[0m \u001b[0mcv2\u001b[0m\u001b[0;34m.\u001b[0m\u001b[0mCHAIN_APPROX_SIMPLE\u001b[0m\u001b[0;34m)\u001b[0m\u001b[0;34m\u001b[0m\u001b[0m\n",
      "\u001b[0;31mNameError\u001b[0m: name 'cv2' is not defined"
     ]
    }
   ],
   "source": [
    "# dbnet 填充区域\n",
    "cv2.fillPoly(mask, box.reshape(1, -1, 2).astype(np.int32), 1)\n",
    "\n",
    "# 找轮廓\n",
    "contours, _ = cv2.findContours((bitmap * 255).astype(np.uint8), cv2.RETR_LIST, cv2.CHAIN_APPROX_SIMPLE)\n",
    "\n",
    "# 过滤轮廓\n",
    "epsilon = 0.005 * cv2.arcLength(contour, True)\n",
    "\n",
    "# 多边形拟合曲线\n",
    "approx = cv2.approxPolyDP(contour, epsilon, True) \n",
    "\n",
    "# 向上，向下取整\n",
    "np.floor(), np.ceil()\n",
    "\n",
    "# 截取\n",
    "np.clip(x.astype(np.int), 0, w)"
   ]
  },
  {
   "cell_type": "code",
   "execution_count": null,
   "metadata": {
    "collapsed": true
   },
   "outputs": [],
   "source": []
  }
 ],
 "metadata": {
  "kernelspec": {
   "display_name": "Python 3",
   "language": "python",
   "name": "python3"
  },
  "language_info": {
   "codemirror_mode": {
    "name": "ipython",
    "version": 3
   },
   "file_extension": ".py",
   "mimetype": "text/x-python",
   "name": "python",
   "nbconvert_exporter": "python",
   "pygments_lexer": "ipython3",
   "version": "3.6.3"
  }
 },
 "nbformat": 4,
 "nbformat_minor": 2
}
